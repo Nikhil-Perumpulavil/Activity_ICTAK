{
 "cells": [
  {
   "cell_type": "code",
   "execution_count": null,
   "id": "d4317153",
   "metadata": {},
   "outputs": [],
   "source": [
    "# Activity 1"
   ]
  },
  {
   "cell_type": "code",
   "execution_count": null,
   "id": "b5ce8488",
   "metadata": {},
   "outputs": [],
   "source": [
    "# Password Picker"
   ]
  },
  {
   "cell_type": "code",
   "execution_count": 5,
   "id": "a95d3163",
   "metadata": {},
   "outputs": [
    {
     "name": "stdout",
     "output_type": "stream",
     "text": [
      "Secure Password is:  polarair69@\n"
     ]
    }
   ],
   "source": [
    "import random\n",
    "\n",
    "adjective = ['beautiful', 'edible', 'nicer', 'adorable', 'breakable', 'mathematical', 'polar', 'intelligent', 'happy', 'faster']\n",
    "noun = ['audience', 'school', 'blackboard', 'sunlight', 'eyes', 'bird', 'air', 'milk', 'January', 'Zeus' ]\n",
    "punctuation = ['!','@','#','$','%','^','&','*','/','<']\n",
    "adj = random.choice(adjective)\n",
    "nou = random.choice(noun)\n",
    "num = random.randint(0,99)\n",
    "pun = random.choice(punctuation)\n",
    "print(\"Secure Password is: \",str(adj)+str(nou)+str(num)+str(pun))"
   ]
  },
  {
   "cell_type": "code",
   "execution_count": null,
   "id": "dd9ed442",
   "metadata": {},
   "outputs": [],
   "source": []
  }
 ],
 "metadata": {
  "kernelspec": {
   "display_name": "Python 3",
   "language": "python",
   "name": "python3"
  },
  "language_info": {
   "codemirror_mode": {
    "name": "ipython",
    "version": 3
   },
   "file_extension": ".py",
   "mimetype": "text/x-python",
   "name": "python",
   "nbconvert_exporter": "python",
   "pygments_lexer": "ipython3",
   "version": "3.8.8"
  }
 },
 "nbformat": 4,
 "nbformat_minor": 5
}
